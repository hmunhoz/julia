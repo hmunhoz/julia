{
 "cells": [
  {
   "cell_type": "markdown",
   "metadata": {},
   "source": [
    "# Julia Fundamentals\n",
    "\n",
    "- Syntax and some simple I/O\n",
    "- Variables and Scope, Local and Global, Static and Dynamic, and Constants\n",
    "- Primitive, Abstract and Composite Types\n",
    "- Operators and elementary math functions\n",
    "- Strings (Unicode and UTF-8)\n",
    "- String operations and pattern matching"
   ]
  },
  {
   "cell_type": "markdown",
   "metadata": {},
   "source": [
    "## 1. Syntax and Simple I/O\n",
    "\n",
    "- Julia syntax and expressions that are simple and clear\n",
    "- Terminal I/O\n",
    "- Simple file I/O using csv files\n"
   ]
  },
  {
   "cell_type": "markdown",
   "metadata": {},
   "source": [
    "#### Shell Game"
   ]
  },
  {
   "cell_type": "code",
   "execution_count": 4,
   "metadata": {},
   "outputs": [
    {
     "name": "stdout",
     "output_type": "stream",
     "text": [
      "shell_a is Int64\n",
      "shell_b is Array{Int64,2}\n",
      "shell_c is String\n",
      "Before: 3, [1 2; 3 4], pea\n",
      "After: pea, [1 2; 3 4], 3\n"
     ]
    }
   ],
   "source": [
    "# Shell Game example (Coconut shells and 1 pea)\n",
    "# Shells are variable names\n",
    "# Under each shell, type with value\n",
    "# This example shows that variable names are just labels\n",
    "# They can be made concrete and that will be shown later\n",
    "# type and data go together as the following will illustrate\n",
    "a = 3\n",
    "println(\"shell_a is \", typeof(a))\n",
    "b = [1 2; 3 4]\n",
    "println(\"shell_b is \", typeof(b))\n",
    "c = \"pea\"\n",
    "println(\"shell_c is \", typeof(c))\n",
    "\n",
    "println(\"Before: $a, $b, $c\")\n",
    "\n",
    "# We can shuffle these around \n",
    "a, b, c = b, c, a # Shell game\n",
    "a, b ,c = b, a , c # Where is the pea\n",
    "\n",
    "println(\"After: $a, $b, $c\")"
   ]
  },
  {
   "cell_type": "markdown",
   "metadata": {},
   "source": [
    "#### How deep is a well?"
   ]
  },
  {
   "cell_type": "code",
   "execution_count": 6,
   "metadata": {},
   "outputs": [
    {
     "name": "stdout",
     "output_type": "stream",
     "text": [
      "drop to splash time: stdin> 4\n",
      "depth 70.58719849910099 meters\n",
      " sound time 0.20579358163003203 seconds\n",
      "confirming depth 70.58719849910122 meters\n",
      " fall time 3.794206418369968 seconds\n"
     ]
    }
   ],
   "source": [
    "# How deep is a well? Use a stopwatch\n",
    "# dropping a rock and listening for the splash\n",
    "\n",
    "# depth = 0.5g * td^2     td = time to reach depth (s = 0.5a * t^2)\n",
    "# depth = vs * tu         tu = time sound take from bottom to top\n",
    "\n",
    "g = 9.8065    # acceleration due to gravity\n",
    "vs = 343.0    # m/s velocity of sound\n",
    "\n",
    "print(\"drop to splash time: \")    # Seconds from drop to ear\n",
    "st = readline();    #Arg STDIN assumed if left out\n",
    "t = parse(Float32, st)    #String to Float32 convertion for t\n",
    "\n",
    "\n",
    "# solve equations by\n",
    "# EQ1: .5g*td^2 - vs*tu = 0\n",
    "# EQ2: td+tu = t => tu=t-td substitute in EQ1 and get\n",
    "# quadratic .5g*td^2 + vs*td - vs*t =0 in t1\n",
    "\n",
    "td = (-vs + sqrt(vs^2 + 2.0g*vs*t))/g\n",
    "tu = t - td\n",
    "depthu = vs*tu\n",
    "println(\"depth $depthu meters\\n sound time $tu seconds\")\n",
    "\n",
    "#confirm\n",
    "depthd = .5g*td^2\n",
    "println(\"confirming depth $depthd meters\\n fall time $td seconds\")"
   ]
  },
  {
   "cell_type": "markdown",
   "metadata": {},
   "source": [
    "#### Shopping list (I/O csv)"
   ]
  },
  {
   "cell_type": "code",
   "execution_count": 9,
   "metadata": {},
   "outputs": [
    {
     "name": "stdout",
     "output_type": "stream",
     "text": [
      "1,salt\n",
      "2,pepper\n",
      "3,milk\n",
      "4,cheese\n",
      "5,tomatoes\n",
      "6,potatoes\n",
      "Done!\n"
     ]
    }
   ],
   "source": [
    "file_in = open(\"files/str1.csv\")\n",
    "file_out = open(\"files/str2.csv\", \"w\")\n",
    "cnt = 1\n",
    "\n",
    "\n",
    "while(!eof(file_in))\n",
    "    global cnt  # We need to specify cnt as global so we can write to it,\n",
    "                # else it would be interpreted as a variable inside the while loop\n",
    "    row = readline(file_in)\n",
    "    row = \"$cnt,\"*row*\"\\n\"\n",
    "    write(file_out, row)\n",
    "    print(row)\n",
    "    cnt += 1\n",
    "end\n",
    "close(file_in)\n",
    "close(file_out)\n",
    "println(\"Done!\")"
   ]
  },
  {
   "cell_type": "markdown",
   "metadata": {},
   "source": [
    "#### Takeaways\n",
    "\n",
    "- Learned how variable names are just labels\n",
    "- Learned what Julia syntax looks like\n",
    "- Learned how to communicate with your terminal/console window\n",
    "- Learned reading and writing CSV files that can be used with Excel or OpenOffice"
   ]
  },
  {
   "cell_type": "markdown",
   "metadata": {},
   "source": [
    "## 2. Variables and Scope - Local and Global, Static and Dynamic, and Constants\n",
    "\n",
    "- Global and local variables\n",
    "- Static and Dynamic\n",
    "- Constants"
   ]
  },
  {
   "cell_type": "markdown",
   "metadata": {},
   "source": [
    "##### Scope global vs local\n",
    "\n",
    "If we want to write to a variable inside of a loop, we need to specify it as global inside such loop."
   ]
  },
  {
   "cell_type": "code",
   "execution_count": 11,
   "metadata": {},
   "outputs": [
    {
     "name": "stdout",
     "output_type": "stream",
     "text": [
      "1\n",
      "π\n"
     ]
    }
   ],
   "source": [
    "i=0             # (global)\n",
    "while i == 0    # Ok since being read\n",
    "    global i    # because being written below\n",
    "    x = π       # (soft local) needs global to be seen outside of while\n",
    "    i+= 1       # Need the global since being written\n",
    "    println(i)\n",
    "    println(x)  # x is local\n",
    "end\n"
   ]
  },
  {
   "cell_type": "code",
   "execution_count": 12,
   "metadata": {},
   "outputs": [
    {
     "name": "stdout",
     "output_type": "stream",
     "text": [
      "1\n"
     ]
    },
    {
     "ename": "UndefVarError",
     "evalue": "UndefVarError: x not defined",
     "output_type": "error",
     "traceback": [
      "UndefVarError: x not defined",
      "",
      "Stacktrace:",
      " [1] top-level scope at In[12]:2"
     ]
    }
   ],
   "source": [
    "println(i)\n",
    "println(x)      # error since x is local in while"
   ]
  },
  {
   "cell_type": "markdown",
   "metadata": {},
   "source": [
    "#### \"Static\"\n",
    "\n",
    "\"Static\" type state becomes what in C would be called a static type.\n",
    "Its value persists but is only available inside the let block.\n",
    "Useful for creating pointers in buffers, deques and queues."
   ]
  },
  {
   "cell_type": "code",
   "execution_count": 13,
   "metadata": {},
   "outputs": [
    {
     "name": "stdout",
     "output_type": "stream",
     "text": [
      "1\n",
      "2\n"
     ]
    }
   ],
   "source": [
    "let\n",
    "    state=0\n",
    "    global counter\n",
    "    counter() = state+=1\n",
    "end\n",
    "println(counter())\n",
    "println(counter())"
   ]
  },
  {
   "cell_type": "code",
   "execution_count": 14,
   "metadata": {},
   "outputs": [
    {
     "name": "stdout",
     "output_type": "stream",
     "text": [
      "l 4\n",
      "l 5\n",
      "l 6\n",
      "l 7\n",
      "l 8\n",
      "l 9\n"
     ]
    }
   ],
   "source": [
    "# Loop indices and externally defined variables local\n",
    "\n",
    "i = 43 # these will NOT be overwritten by the loop indfex and local l\n",
    "l = 66\n",
    "\n",
    "for i=1:3   # this i is \"soft\" local so won't interfere with global i\n",
    "    \n",
    "    j=i+1   # j is also \"soft\" local to this block and lower\n",
    "    \n",
    "    for k=1:2\n",
    "        local l # \"Hard\" local so won't interfere with global l=66\n",
    "        l = k + j + i\n",
    "        println(\"l \",l)\n",
    "    end\n",
    "end"
   ]
  },
  {
   "cell_type": "code",
   "execution_count": 19,
   "metadata": {},
   "outputs": [
    {
     "name": "stdout",
     "output_type": "stream",
     "text": [
      "43\n",
      "66\n"
     ]
    },
    {
     "ename": "UndefVarError",
     "evalue": "UndefVarError: j not defined",
     "output_type": "error",
     "traceback": [
      "UndefVarError: j not defined",
      "",
      "Stacktrace:",
      " [1] top-level scope at In[19]:3"
     ]
    }
   ],
   "source": [
    "println(i)  # 1:3 won't override 43\n",
    "println(l)  # note inner for loop l is hard local\n",
    "println(j)  # error j soft local not available to higher level"
   ]
  },
  {
   "cell_type": "markdown",
   "metadata": {},
   "source": [
    "#### Constants\n",
    "\n",
    "Constants are like variables, but they will warn you if you override them."
   ]
  },
  {
   "cell_type": "code",
   "execution_count": 23,
   "metadata": {},
   "outputs": [
    {
     "data": {
      "text/plain": [
       "43.5"
      ]
     },
     "execution_count": 23,
     "metadata": {},
     "output_type": "execute_result"
    }
   ],
   "source": [
    "const m = 43.5"
   ]
  },
  {
   "cell_type": "code",
   "execution_count": 24,
   "metadata": {},
   "outputs": [
    {
     "name": "stdout",
     "output_type": "stream",
     "text": [
      "43.5\n"
     ]
    }
   ],
   "source": [
    "println(m)"
   ]
  },
  {
   "cell_type": "code",
   "execution_count": 25,
   "metadata": {},
   "outputs": [
    {
     "ename": "ErrorException",
     "evalue": "invalid redefinition of constant m",
     "output_type": "error",
     "traceback": [
      "invalid redefinition of constant m",
      "",
      "Stacktrace:",
      " [1] top-level scope at In[25]:1"
     ]
    }
   ],
   "source": [
    "m = 42   # warning error"
   ]
  },
  {
   "cell_type": "code",
   "execution_count": 26,
   "metadata": {},
   "outputs": [
    {
     "data": {
      "text/plain": [
       "π = 3.1415926535897..."
      ]
     },
     "execution_count": 26,
     "metadata": {},
     "output_type": "execute_result"
    }
   ],
   "source": [
    "# Built in constants\n",
    "π #(alias:pi)"
   ]
  },
  {
   "cell_type": "code",
   "execution_count": 27,
   "metadata": {},
   "outputs": [],
   "source": [
    "# CODATA.jlexp(l) package has 350 physics constants"
   ]
  },
  {
   "cell_type": "markdown",
   "metadata": {},
   "source": [
    "#### Takeaways\n",
    "\n",
    "- Scope rules for variables\n",
    "- Static variables for shared pointers and counters\n",
    "- Constants cannot be overriden"
   ]
  },
  {
   "cell_type": "markdown",
   "metadata": {},
   "source": [
    "### Primitive, abstract and composite types"
   ]
  },
  {
   "cell_type": "code",
   "execution_count": null,
   "metadata": {},
   "outputs": [],
   "source": []
  }
 ],
 "metadata": {
  "kernelspec": {
   "display_name": "Julia 1.4.1",
   "language": "julia",
   "name": "julia-1.4"
  },
  "language_info": {
   "file_extension": ".jl",
   "mimetype": "application/julia",
   "name": "julia",
   "version": "1.4.1"
  }
 },
 "nbformat": 4,
 "nbformat_minor": 4
}
