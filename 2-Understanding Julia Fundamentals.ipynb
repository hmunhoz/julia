{
 "cells": [
  {
   "cell_type": "markdown",
   "metadata": {},
   "source": [
    "# Julia Fundamentals\n",
    "\n",
    "- Syntax and some simple I/O\n",
    "- Variables and Scope, Local and Global, Static and Dynamic, and Constants\n",
    "- Primitive, Abstract and Composite Types\n",
    "- Operators and elementary math functions\n",
    "- Strings (Unicode and UTF-8)\n",
    "- String operations and pattern matching"
   ]
  },
  {
   "cell_type": "markdown",
   "metadata": {},
   "source": [
    "## 1. Syntax and Simple I/O\n",
    "\n",
    "- Julia syntax and expressions that are simple and clear\n",
    "- Terminal I/O\n",
    "- Simple file I/O using csv files\n"
   ]
  },
  {
   "cell_type": "markdown",
   "metadata": {},
   "source": [
    "#### Shell Game"
   ]
  },
  {
   "cell_type": "code",
   "execution_count": 4,
   "metadata": {},
   "outputs": [
    {
     "name": "stdout",
     "output_type": "stream",
     "text": [
      "shell_a is Int64\n",
      "shell_b is Array{Int64,2}\n",
      "shell_c is String\n",
      "Before: 3, [1 2; 3 4], pea\n",
      "After: pea, [1 2; 3 4], 3\n"
     ]
    }
   ],
   "source": [
    "# Shell Game example (Coconut shells and 1 pea)\n",
    "# Shells are variable names\n",
    "# Under each shell, type with value\n",
    "# This example shows that variable names are just labels\n",
    "# They can be made concrete and that will be shown later\n",
    "# type and data go together as the following will illustrate\n",
    "a = 3\n",
    "println(\"shell_a is \", typeof(a))\n",
    "b = [1 2; 3 4]\n",
    "println(\"shell_b is \", typeof(b))\n",
    "c = \"pea\"\n",
    "println(\"shell_c is \", typeof(c))\n",
    "\n",
    "println(\"Before: $a, $b, $c\")\n",
    "\n",
    "# We can shuffle these around \n",
    "a, b, c = b, c, a # Shell game\n",
    "a, b ,c = b, a , c # Where is the pea\n",
    "\n",
    "println(\"After: $a, $b, $c\")"
   ]
  },
  {
   "cell_type": "markdown",
   "metadata": {},
   "source": [
    "#### How deep is a well?"
   ]
  },
  {
   "cell_type": "code",
   "execution_count": 6,
   "metadata": {},
   "outputs": [
    {
     "name": "stdout",
     "output_type": "stream",
     "text": [
      "drop to splash time: stdin> 4\n",
      "depth 70.58719849910099 meters\n",
      " sound time 0.20579358163003203 seconds\n",
      "confirming depth 70.58719849910122 meters\n",
      " fall time 3.794206418369968 seconds\n"
     ]
    }
   ],
   "source": [
    "# How deep is a well? Use a stopwatch\n",
    "# dropping a rock and listening for the splash\n",
    "\n",
    "# depth = 0.5g * td^2     td = time to reach depth (s = 0.5a * t^2)\n",
    "# depth = vs * tu         tu = time sound take from bottom to top\n",
    "\n",
    "g = 9.8065    # acceleration due to gravity\n",
    "vs = 343.0    # m/s velocity of sound\n",
    "\n",
    "print(\"drop to splash time: \")    # Seconds from drop to ear\n",
    "st = readline();    #Arg STDIN assumed if left out\n",
    "t = parse(Float32, st)    #String to Float32 convertion for t\n",
    "\n",
    "\n",
    "# solve equations by\n",
    "# EQ1: .5g*td^2 - vs*tu = 0\n",
    "# EQ2: td+tu = t => tu=t-td substitute in EQ1 and get\n",
    "# quadratic .5g*td^2 + vs*td - vs*t =0 in t1\n",
    "\n",
    "td = (-vs + sqrt(vs^2 + 2.0g*vs*t))/g\n",
    "tu = t - td\n",
    "depthu = vs*tu\n",
    "println(\"depth $depthu meters\\n sound time $tu seconds\")\n",
    "\n",
    "#confirm\n",
    "depthd = .5g*td^2\n",
    "println(\"confirming depth $depthd meters\\n fall time $td seconds\")"
   ]
  },
  {
   "cell_type": "markdown",
   "metadata": {},
   "source": [
    "#### Shopping list (I/O csv)"
   ]
  },
  {
   "cell_type": "code",
   "execution_count": 9,
   "metadata": {},
   "outputs": [
    {
     "name": "stdout",
     "output_type": "stream",
     "text": [
      "1,salt\n",
      "2,pepper\n",
      "3,milk\n",
      "4,cheese\n",
      "5,tomatoes\n",
      "6,potatoes\n",
      "Done!\n"
     ]
    }
   ],
   "source": [
    "file_in = open(\"files/str1.csv\")\n",
    "file_out = open(\"files/str2.csv\", \"w\")\n",
    "cnt = 1\n",
    "\n",
    "\n",
    "while(!eof(file_in))\n",
    "    global cnt  # We need to specify cnt as global so we can write to it,\n",
    "                # else it would be interpreted as a variable inside the while loop\n",
    "    row = readline(file_in)\n",
    "    row = \"$cnt,\"*row*\"\\n\"\n",
    "    write(file_out, row)\n",
    "    print(row)\n",
    "    cnt += 1\n",
    "end\n",
    "close(file_in)\n",
    "close(file_out)\n",
    "println(\"Done!\")"
   ]
  },
  {
   "cell_type": "markdown",
   "metadata": {},
   "source": [
    "#### Takeaways\n",
    "\n",
    "- Learned how variable names are just labels\n",
    "- Learned what Julia syntax looks like\n",
    "- Learned how to communicate with your terminal/console window\n",
    "- Learned reading and writing CSV files that can be used with Excel or OpenOffice"
   ]
  },
  {
   "cell_type": "markdown",
   "metadata": {},
   "source": [
    "## 2. Variables and Scope - Local and Global, Static and Dynamic, and Constants\n",
    "\n",
    "- Global and local variables\n",
    "- Static and Dynamic\n",
    "- Constants"
   ]
  },
  {
   "cell_type": "markdown",
   "metadata": {},
   "source": [
    "##### Scope global vs local\n",
    "\n",
    "If we want to write to a variable inside of a loop, we need to specify it as global inside such loop."
   ]
  },
  {
   "cell_type": "code",
   "execution_count": 11,
   "metadata": {},
   "outputs": [
    {
     "name": "stdout",
     "output_type": "stream",
     "text": [
      "1\n",
      "π\n"
     ]
    }
   ],
   "source": [
    "i=0             # (global)\n",
    "while i == 0    # Ok since being read\n",
    "    global i    # because being written below\n",
    "    x = π       # (soft local) needs global to be seen outside of while\n",
    "    i+= 1       # Need the global since being written\n",
    "    println(i)\n",
    "    println(x)  # x is local\n",
    "end\n"
   ]
  },
  {
   "cell_type": "code",
   "execution_count": 12,
   "metadata": {},
   "outputs": [
    {
     "name": "stdout",
     "output_type": "stream",
     "text": [
      "1\n"
     ]
    },
    {
     "ename": "UndefVarError",
     "evalue": "UndefVarError: x not defined",
     "output_type": "error",
     "traceback": [
      "UndefVarError: x not defined",
      "",
      "Stacktrace:",
      " [1] top-level scope at In[12]:2"
     ]
    }
   ],
   "source": [
    "println(i)\n",
    "println(x)      # error since x is local in while"
   ]
  },
  {
   "cell_type": "markdown",
   "metadata": {},
   "source": [
    "#### \"Static\"\n",
    "\n",
    "\"Static\" type state becomes what in C would be called a static type.\n",
    "Its value persists but is only available inside the let block.\n",
    "Useful for creating pointers in buffers, deques and queues."
   ]
  },
  {
   "cell_type": "code",
   "execution_count": 13,
   "metadata": {},
   "outputs": [
    {
     "name": "stdout",
     "output_type": "stream",
     "text": [
      "1\n",
      "2\n"
     ]
    }
   ],
   "source": [
    "let\n",
    "    state=0\n",
    "    global counter\n",
    "    counter() = state+=1\n",
    "end\n",
    "println(counter())\n",
    "println(counter())"
   ]
  },
  {
   "cell_type": "code",
   "execution_count": 14,
   "metadata": {},
   "outputs": [
    {
     "name": "stdout",
     "output_type": "stream",
     "text": [
      "l 4\n",
      "l 5\n",
      "l 6\n",
      "l 7\n",
      "l 8\n",
      "l 9\n"
     ]
    }
   ],
   "source": [
    "# Loop indices and externally defined variables local\n",
    "\n",
    "i = 43 # these will NOT be overwritten by the loop indfex and local l\n",
    "l = 66\n",
    "\n",
    "for i=1:3   # this i is \"soft\" local so won't interfere with global i\n",
    "    \n",
    "    j=i+1   # j is also \"soft\" local to this block and lower\n",
    "    \n",
    "    for k=1:2\n",
    "        local l # \"Hard\" local so won't interfere with global l=66\n",
    "        l = k + j + i\n",
    "        println(\"l \",l)\n",
    "    end\n",
    "end"
   ]
  },
  {
   "cell_type": "code",
   "execution_count": 19,
   "metadata": {},
   "outputs": [
    {
     "name": "stdout",
     "output_type": "stream",
     "text": [
      "43\n",
      "66\n"
     ]
    },
    {
     "ename": "UndefVarError",
     "evalue": "UndefVarError: j not defined",
     "output_type": "error",
     "traceback": [
      "UndefVarError: j not defined",
      "",
      "Stacktrace:",
      " [1] top-level scope at In[19]:3"
     ]
    }
   ],
   "source": [
    "println(i)  # 1:3 won't override 43\n",
    "println(l)  # note inner for loop l is hard local\n",
    "println(j)  # error j soft local not available to higher level"
   ]
  },
  {
   "cell_type": "markdown",
   "metadata": {},
   "source": [
    "#### Constants\n",
    "\n",
    "Constants are like variables, but they will warn you if you override them."
   ]
  },
  {
   "cell_type": "code",
   "execution_count": 23,
   "metadata": {},
   "outputs": [
    {
     "data": {
      "text/plain": [
       "43.5"
      ]
     },
     "execution_count": 23,
     "metadata": {},
     "output_type": "execute_result"
    }
   ],
   "source": [
    "const m = 43.5"
   ]
  },
  {
   "cell_type": "code",
   "execution_count": 24,
   "metadata": {},
   "outputs": [
    {
     "name": "stdout",
     "output_type": "stream",
     "text": [
      "43.5\n"
     ]
    }
   ],
   "source": [
    "println(m)"
   ]
  },
  {
   "cell_type": "code",
   "execution_count": 25,
   "metadata": {},
   "outputs": [
    {
     "ename": "ErrorException",
     "evalue": "invalid redefinition of constant m",
     "output_type": "error",
     "traceback": [
      "invalid redefinition of constant m",
      "",
      "Stacktrace:",
      " [1] top-level scope at In[25]:1"
     ]
    }
   ],
   "source": [
    "m = 42   # warning error"
   ]
  },
  {
   "cell_type": "code",
   "execution_count": 26,
   "metadata": {},
   "outputs": [
    {
     "data": {
      "text/plain": [
       "π = 3.1415926535897..."
      ]
     },
     "execution_count": 26,
     "metadata": {},
     "output_type": "execute_result"
    }
   ],
   "source": [
    "# Built in constants\n",
    "π #(alias:pi)"
   ]
  },
  {
   "cell_type": "code",
   "execution_count": 27,
   "metadata": {},
   "outputs": [],
   "source": [
    "# CODATA.jlexp(l) package has 350 physics constants"
   ]
  },
  {
   "cell_type": "markdown",
   "metadata": {},
   "source": [
    "#### Takeaways\n",
    "\n",
    "- Scope rules for variables\n",
    "- Static variables for shared pointers and counters\n",
    "- Constants cannot be overriden"
   ]
  },
  {
   "cell_type": "markdown",
   "metadata": {},
   "source": [
    "## 3. Primitive, abstract and composite types\n",
    "\n",
    "- Primitives, concrete types, and CPU storage requirements\n",
    "- Abstract types have no instantiation, but form part of the conceptual hierarchy\n",
    "- Composite types - a configuration of primitive types and parameters\n",
    "\n",
    "\n",
    "### Type tree\n",
    "\n",
    "<img src=\"files/type-tree.png\">\n",
    "\n",
    "\n",
    "#### Big and Rational\n",
    "\n",
    "- MPRF.BigFloat &rarr; uses the GNU C MFPR library arbitrary precision package;\n",
    "    - precision(BigFloat) &rarr; will give current size in # of bits\n",
    "    - BigFloat($\\pi$, 500) &rarr; using 500 binary digits\n",
    "- GMP.BigInt &rarr; uses the GNU C GMP library, size of numbers limited by memory\n",
    "    - BigInt(2)^512 &rarr; 2^512 using 513 binary digits (it expands as necessary)\n",
    "    \n",
    "#### Complex and Aliases\n",
    "\n",
    "- ComplexF16 for Complex{Float16}\n",
    "- ComplexF32 for Complex{Float32}\n",
    "- ComplexF64 for Complex{Float64}\n",
    "- CPU dependent aliases:\n",
    "    - Float &rarr; alias for Float64 or Float32\n",
    "    - Int &rarr; alias for Int64 or Int32\n",
    "    - UInt &rarr; alias for UInt64 or UInt32"
   ]
  },
  {
   "cell_type": "markdown",
   "metadata": {},
   "source": [
    "### Primitive Types"
   ]
  },
  {
   "cell_type": "markdown",
   "metadata": {},
   "source": [
    "#### Integer types with maxnumber\n",
    "\n",
    "- Int is default for Int64 if a 64 bit CPU, else 32\n",
    "- UInt is default for UInt64 if a 64 bit CPU, else 32"
   ]
  },
  {
   "cell_type": "code",
   "execution_count": 33,
   "metadata": {},
   "outputs": [
    {
     "name": "stdout",
     "output_type": "stream",
     "text": [
      "127\n",
      "255\n"
     ]
    }
   ],
   "source": [
    "println(Int8(127))\n",
    "println(UInt8(255))"
   ]
  },
  {
   "cell_type": "code",
   "execution_count": 34,
   "metadata": {},
   "outputs": [
    {
     "name": "stdout",
     "output_type": "stream",
     "text": [
      "32767\n",
      "65535\n"
     ]
    }
   ],
   "source": [
    "println(Int16(32767))\n",
    "println(UInt16(65535))"
   ]
  },
  {
   "cell_type": "code",
   "execution_count": 35,
   "metadata": {},
   "outputs": [
    {
     "name": "stdout",
     "output_type": "stream",
     "text": [
      "2147483647\n",
      "4294607295\n"
     ]
    }
   ],
   "source": [
    "println(Int32(2147483647))\n",
    "println(UInt32(4294607295))"
   ]
  },
  {
   "cell_type": "code",
   "execution_count": 36,
   "metadata": {},
   "outputs": [
    {
     "name": "stdout",
     "output_type": "stream",
     "text": [
      "9223372036854775807\n",
      "18446744073709551615\n"
     ]
    }
   ],
   "source": [
    "println(Int64(2)^63-1)\n",
    "println(UInt64(2)^64-1)"
   ]
  },
  {
   "cell_type": "code",
   "execution_count": 37,
   "metadata": {},
   "outputs": [
    {
     "name": "stdout",
     "output_type": "stream",
     "text": [
      "170141183460469231731687303715884105727\n",
      "340282366920938463463374607431768211455\n"
     ]
    }
   ],
   "source": [
    "println(Int128(2)^127-1)\n",
    "println(UInt128(2)^128-1)"
   ]
  },
  {
   "cell_type": "code",
   "execution_count": 38,
   "metadata": {},
   "outputs": [
    {
     "name": "stdout",
     "output_type": "stream",
     "text": [
      "8079251517827751825178719172167487990111025667428871008032586356881163784716972723299300352880728365922179490230474504873529889787622730273772038096612070780157719341825249022937549437597413026699014409596016892069198054660654939040459523584619042617645411463009076260721893972885266452151888099780982596380478583347417085605171243696641142373714044008831580514519451414832756548177115078537564648216044279181485900929615464339399587788075411476100924403308321807806781421177705052431289275431732830867419635645164174483761499317088249659553881291597359333885900533858307401161329619651238037048388963402764899057663\n"
     ]
    }
   ],
   "source": [
    "println(BigInt(2)^2046-1)"
   ]
  },
  {
   "cell_type": "markdown",
   "metadata": {},
   "source": [
    "#### Floating point types and irrational numbers"
   ]
  },
  {
   "cell_type": "code",
   "execution_count": 39,
   "metadata": {},
   "outputs": [
    {
     "name": "stdout",
     "output_type": "stream",
     "text": [
      "3.14\n",
      "3.1415927\n",
      "3.141592653589793\n",
      "3.141592653589793238462643383279502884197169399375105820974944592307816406286198\n"
     ]
    }
   ],
   "source": [
    "println(Float16(π))    # 11 bits of precision\n",
    "println(Float32(π))    # 24 bits of precision\n",
    "println(Float64(π))    # 53 bits of precision\n",
    "println(BigFloat(π))   # 256 bits of precision - normally"
   ]
  },
  {
   "cell_type": "code",
   "execution_count": 40,
   "metadata": {},
   "outputs": [
    {
     "data": {
      "text/plain": [
       "256"
      ]
     },
     "execution_count": 40,
     "metadata": {},
     "output_type": "execute_result"
    }
   ],
   "source": [
    "precision(BigFloat(π))"
   ]
  },
  {
   "cell_type": "code",
   "execution_count": 42,
   "metadata": {},
   "outputs": [
    {
     "name": "stdout",
     "output_type": "stream",
     "text": [
      "π\n"
     ]
    }
   ],
   "source": [
    "println(π)    # irrational number cannot be represented as a rational"
   ]
  },
  {
   "cell_type": "code",
   "execution_count": 45,
   "metadata": {},
   "outputs": [
    {
     "data": {
      "text/plain": [
       "3.141592653589793238462643383279502884197169399375105820974944592307816406286198"
      ]
     },
     "execution_count": 45,
     "metadata": {},
     "output_type": "execute_result"
    }
   ],
   "source": [
    "BigFloat(π)   # BigFloat defaults to 256 binary places ~77 decimal places"
   ]
  },
  {
   "cell_type": "code",
   "execution_count": 46,
   "metadata": {},
   "outputs": [
    {
     "data": {
      "text/plain": [
       "3.1415926535897932384626433832795028841971693993751058209749445923078164062862089986280348253421170679821480865132823066470938446095505822317253594081283"
      ]
     },
     "execution_count": 46,
     "metadata": {},
     "output_type": "execute_result"
    }
   ],
   "source": [
    "BigFloat(π, 500)    # 500+ bits of precision"
   ]
  },
  {
   "cell_type": "markdown",
   "metadata": {},
   "source": [
    "#### Complex Numbers"
   ]
  },
  {
   "cell_type": "code",
   "execution_count": 47,
   "metadata": {},
   "outputs": [
    {
     "name": "stdout",
     "output_type": "stream",
     "text": [
      "Float16(3.14) + Float16(6.28)im\n",
      "3.1415927f0 + 6.2831855f0im\n",
      "3.141592653589793 + 6.283185307179586im\n"
     ]
    }
   ],
   "source": [
    "println(Complex{Float16}(π + 2π*im))    # 11 bits precision each part\n",
    "println(Complex{Float32}(π + 2π*im))    # 24 bits precision each part\n",
    "println(Complex{Float64}(π + 2π*im))    # 53 bits precision each part"
   ]
  },
  {
   "cell_type": "markdown",
   "metadata": {},
   "source": [
    "##### full gamut of elementary functions work on complex numbers\n",
    "#### complex shortcuts"
   ]
  },
  {
   "cell_type": "code",
   "execution_count": 49,
   "metadata": {},
   "outputs": [
    {
     "data": {
      "text/plain": [
       "Float16(3.1) + Float16(3.2)im"
      ]
     },
     "execution_count": 49,
     "metadata": {},
     "output_type": "execute_result"
    }
   ],
   "source": [
    "ComplexF16(3.1 + 3.2im)    # Alias for Complex{Float16}()"
   ]
  },
  {
   "cell_type": "code",
   "execution_count": 50,
   "metadata": {},
   "outputs": [
    {
     "data": {
      "text/plain": [
       "3.1f0 + 3.2f0im"
      ]
     },
     "execution_count": 50,
     "metadata": {},
     "output_type": "execute_result"
    }
   ],
   "source": [
    "ComplexF32(3.1 + 3.2im)    # Alias for Complex{Float32}()"
   ]
  },
  {
   "cell_type": "code",
   "execution_count": 51,
   "metadata": {},
   "outputs": [
    {
     "data": {
      "text/plain": [
       "3.1 + 3.2im"
      ]
     },
     "execution_count": 51,
     "metadata": {},
     "output_type": "execute_result"
    }
   ],
   "source": [
    "ComplexF64(3.1 + 3.2im)    # Alias for Complex{Float64}()"
   ]
  },
  {
   "cell_type": "code",
   "execution_count": 52,
   "metadata": {},
   "outputs": [
    {
     "data": {
      "text/plain": [
       "3.1 + 3.2im"
      ]
     },
     "execution_count": 52,
     "metadata": {},
     "output_type": "execute_result"
    }
   ],
   "source": [
    "Complex(3.1 + 3.2im)       # Alias for ComplexF64 if 64 bit CPU, else ComplexF32"
   ]
  },
  {
   "cell_type": "markdown",
   "metadata": {},
   "source": [
    "### Rational numbers\n",
    "\n",
    "Used for exact arithmetic"
   ]
  },
  {
   "cell_type": "code",
   "execution_count": 54,
   "metadata": {},
   "outputs": [
    {
     "name": "stdout",
     "output_type": "stream",
     "text": [
      "a=32//105, b=110//91, c=121//49"
     ]
    }
   ],
   "source": [
    "# for example: 1/3 cannot be represented exactly by any\n",
    "# floating point number.\n",
    "# 1//3 represents the rational number 1/3 exactly\n",
    "\n",
    "a = 1//3 + 2//5 - 3//7\n",
    "b = (22//7) * (5//13)\n",
    "c = ((22//7)/2)^2\n",
    "\n",
    "print(\"a=$a, b=$b, c=$c\")"
   ]
  },
  {
   "cell_type": "code",
   "execution_count": 55,
   "metadata": {},
   "outputs": [
    {
     "data": {
      "text/plain": [
       "31//8"
      ]
     },
     "execution_count": 55,
     "metadata": {},
     "output_type": "execute_result"
    }
   ],
   "source": [
    "Rational(3.875)    # Make a rational fraction out of a float"
   ]
  },
  {
   "cell_type": "code",
   "execution_count": 56,
   "metadata": {},
   "outputs": [
    {
     "data": {
      "text/plain": [
       "4306567143673037//1125899906842624"
      ]
     },
     "execution_count": 56,
     "metadata": {},
     "output_type": "execute_result"
    }
   ],
   "source": [
    "Rational(3.825)    # a repeating binary pattern so not exact, use rationalize() function"
   ]
  },
  {
   "cell_type": "code",
   "execution_count": 58,
   "metadata": {},
   "outputs": [
    {
     "data": {
      "text/plain": [
       "3.82500000000000017763568394002504646778106689453125"
      ]
     },
     "execution_count": 58,
     "metadata": {},
     "output_type": "execute_result"
    }
   ],
   "source": [
    "BigFloat(3.825)    # Gives wrong precision due to prior conversion error"
   ]
  },
  {
   "cell_type": "code",
   "execution_count": 60,
   "metadata": {},
   "outputs": [
    {
     "data": {
      "text/plain": [
       "3.825000000000000000000000000000000000000000000000000000000000000000000000000007"
      ]
     },
     "execution_count": 60,
     "metadata": {},
     "output_type": "execute_result"
    }
   ],
   "source": [
    "BigFloat(3825//1000) # or"
   ]
  },
  {
   "cell_type": "code",
   "execution_count": 61,
   "metadata": {},
   "outputs": [
    {
     "data": {
      "text/plain": [
       "3.825000000000000000000000000000000000000000000000000000000000000000000000000007"
      ]
     },
     "execution_count": 61,
     "metadata": {},
     "output_type": "execute_result"
    }
   ],
   "source": [
    "BigFloat(\"3.825\")"
   ]
  },
  {
   "cell_type": "markdown",
   "metadata": {},
   "source": [
    "##### Takeaways\n",
    "\n",
    "- Learned abstract, concrete and derived types\n",
    "- Learned about the default types Flt, Int, UInt, and machine dependence/independence\n",
    "- Learned Complex, Rationals, BigInts and BigFloats"
   ]
  },
  {
   "cell_type": "markdown",
   "metadata": {},
   "source": [
    "## 4. Operators and Elementary Math Functions\n",
    "\n",
    "- List of operators:\n",
    "    - Operations are determined by the context in which they are used (Polymorphism)\n",
    "- Elementary Math Functions work for\n",
    "    - Integers (Signed and Unsigned; Int8-Int128 and Uint8-Uint128, BigInt)\n",
    "    - Floating Point (Float16, Float32, Float64, BigFloat)\n",
    "    - Complex (ComplexF16, ComplexF32, ComplexF64)\n",
    "    - Rationals\n",
    "- Vectors and Matrices\n",
    "\n",
    "\n",
    "<img src='files/math-operators.png'>\n",
    "\n",
    "**Y = Yes**\n",
    "\n",
    "##### Function Argument Types\n",
    "\n",
    "- Types Integer, Float, Rational can all be automatically converted to Float\n",
    "- This also includes Complex types that make sense and produce complex results\n",
    "- It's a good idea to put rational and complex numbers in parenthesis\n",
    "    - y = x^3//2 and z = x*1+3im are not the same as y = x^(3//2) and z = x*(1+3im)\n",
    "    - The former can confuse the compiler and give unintended result"
   ]
  },
  {
   "cell_type": "markdown",
   "metadata": {},
   "source": [
    "#### Operators  +  -  *  /  |  ^"
   ]
  },
  {
   "cell_type": "code",
   "execution_count": 65,
   "metadata": {},
   "outputs": [
    {
     "data": {
      "text/plain": [
       "4.5936574836539075"
      ]
     },
     "execution_count": 65,
     "metadata": {},
     "output_type": "execute_result"
    }
   ],
   "source": [
    "#e = Base.MathConstants.e\n",
    "\n",
    "a = 2//3 + 3.4π/e"
   ]
  },
  {
   "cell_type": "code",
   "execution_count": 66,
   "metadata": {},
   "outputs": [
    {
     "data": {
      "text/plain": [
       "0.47159090909090906"
      ]
     },
     "execution_count": 66,
     "metadata": {},
     "output_type": "execute_result"
    }
   ],
   "source": [
    "b = (3//4)^2 - 55\\5   # x=a/b  is x=b\\a"
   ]
  },
  {
   "cell_type": "code",
   "execution_count": 67,
   "metadata": {},
   "outputs": [
    {
     "data": {
      "text/plain": [
       "3-element Array{Int64,1}:\n",
       " 3\n",
       " 6\n",
       " 9"
      ]
     },
     "execution_count": 67,
     "metadata": {},
     "output_type": "execute_result"
    }
   ],
   "source": [
    "V = [1, 2, 3]         # vector\n",
    "\n",
    "3V"
   ]
  },
  {
   "cell_type": "code",
   "execution_count": 68,
   "metadata": {},
   "outputs": [
    {
     "data": {
      "text/plain": [
       "2×2 Array{Int64,2}:\n",
       " 3   6\n",
       " 9  12"
      ]
     },
     "execution_count": 68,
     "metadata": {},
     "output_type": "execute_result"
    }
   ],
   "source": [
    "M = [1 2; 3 4]        # 2x2 matrix\n",
    "\n",
    "Y = 3M                # * implied, 3* each entry"
   ]
  },
  {
   "cell_type": "code",
   "execution_count": 69,
   "metadata": {},
   "outputs": [
    {
     "data": {
      "text/plain": [
       "2×2 Array{Float64,2}:\n",
       " 0.333333  0.666667\n",
       " 1.0       1.33333"
      ]
     },
     "execution_count": 69,
     "metadata": {},
     "output_type": "execute_result"
    }
   ],
   "source": [
    "Z1 = M/3              # Matrix M divided by 3"
   ]
  },
  {
   "cell_type": "code",
   "execution_count": 70,
   "metadata": {},
   "outputs": [
    {
     "data": {
      "text/plain": [
       "2×2 Array{Float64,2}:\n",
       " 0.333333  0.666667\n",
       " 1.0       1.33333"
      ]
     },
     "execution_count": 70,
     "metadata": {},
     "output_type": "execute_result"
    }
   ],
   "source": [
    "Z2 = 3\\M              # Divide into -- same result as above"
   ]
  },
  {
   "cell_type": "code",
   "execution_count": 71,
   "metadata": {},
   "outputs": [
    {
     "data": {
      "text/plain": [
       "2×2 Array{Complex{Float64},2}:\n",
       " 0.166667-0.166667im  0.333333-0.333333im\n",
       "      0.5-0.5im       0.666667-0.666667im"
      ]
     },
     "execution_count": 71,
     "metadata": {},
     "output_type": "execute_result"
    }
   ],
   "source": [
    "W1 = (3+3im)\\M"
   ]
  },
  {
   "cell_type": "code",
   "execution_count": 72,
   "metadata": {},
   "outputs": [
    {
     "data": {
      "text/plain": [
       "2×2 Array{Complex{Float64},2}:\n",
       " 1.0+0.0im  2.0+0.0im\n",
       " 3.0+0.0im  4.0+0.0im"
      ]
     },
     "execution_count": 72,
     "metadata": {},
     "output_type": "execute_result"
    }
   ],
   "source": [
    "W2 = (3+3im)W1"
   ]
  },
  {
   "cell_type": "markdown",
   "metadata": {},
   "source": [
    "##### op= Operators"
   ]
  },
  {
   "cell_type": "code",
   "execution_count": 73,
   "metadata": {},
   "outputs": [
    {
     "data": {
      "text/plain": [
       "1"
      ]
     },
     "execution_count": 73,
     "metadata": {},
     "output_type": "execute_result"
    }
   ],
   "source": [
    "i=0\n",
    "i+=1"
   ]
  },
  {
   "cell_type": "code",
   "execution_count": 74,
   "metadata": {},
   "outputs": [
    {
     "data": {
      "text/plain": [
       "2×2 Array{Int64,2}:\n",
       " 2  4\n",
       " 6  8"
      ]
     },
     "execution_count": 74,
     "metadata": {},
     "output_type": "execute_result"
    }
   ],
   "source": [
    "M*=2   # Stays integer, all entries times 2"
   ]
  },
  {
   "cell_type": "code",
   "execution_count": 75,
   "metadata": {},
   "outputs": [
    {
     "data": {
      "text/plain": [
       "2×2 Array{Int64,2}:\n",
       " 1  3\n",
       " 5  7"
      ]
     },
     "execution_count": 75,
     "metadata": {},
     "output_type": "execute_result"
    }
   ],
   "source": [
    "M.-=1  # Stays integer, -1 from each entry"
   ]
  },
  {
   "cell_type": "code",
   "execution_count": 76,
   "metadata": {},
   "outputs": [
    {
     "data": {
      "text/plain": [
       "2×2 Array{Float64,2}:\n",
       "  2.0   6.0\n",
       " 10.0  14.0"
      ]
     },
     "execution_count": 76,
     "metadata": {},
     "output_type": "execute_result"
    }
   ],
   "source": [
    "M*=2.0 # now floating, all entries * 2.0"
   ]
  },
  {
   "cell_type": "markdown",
   "metadata": {},
   "source": [
    "##### Special functions for complex numbers"
   ]
  },
  {
   "cell_type": "code",
   "execution_count": 77,
   "metadata": {},
   "outputs": [
    {
     "data": {
      "text/plain": [
       "1"
      ]
     },
     "execution_count": 77,
     "metadata": {},
     "output_type": "execute_result"
    }
   ],
   "source": [
    "real(1+2im)  # real part"
   ]
  },
  {
   "cell_type": "code",
   "execution_count": 78,
   "metadata": {},
   "outputs": [
    {
     "data": {
      "text/plain": [
       "2"
      ]
     },
     "execution_count": 78,
     "metadata": {},
     "output_type": "execute_result"
    }
   ],
   "source": [
    "imag(1+2im)  # imaginary part"
   ]
  },
  {
   "cell_type": "code",
   "execution_count": 80,
   "metadata": {},
   "outputs": [
    {
     "data": {
      "text/plain": [
       "1 - 2im"
      ]
     },
     "execution_count": 80,
     "metadata": {},
     "output_type": "execute_result"
    }
   ],
   "source": [
    "conj(1+2im)  # conjugate"
   ]
  },
  {
   "cell_type": "markdown",
   "metadata": {},
   "source": [
    "##### Basic function library"
   ]
  },
  {
   "cell_type": "code",
   "execution_count": 81,
   "metadata": {},
   "outputs": [
    {
     "data": {
      "text/plain": [
       "3 + 3im"
      ]
     },
     "execution_count": 81,
     "metadata": {},
     "output_type": "execute_result"
    }
   ],
   "source": [
    "d=3+3im"
   ]
  },
  {
   "cell_type": "code",
   "execution_count": 82,
   "metadata": {},
   "outputs": [
    {
     "data": {
      "text/plain": [
       "1.9029767059950162 + 0.7882387605032136im"
      ]
     },
     "execution_count": 82,
     "metadata": {},
     "output_type": "execute_result"
    }
   ],
   "source": [
    "a = sqrt(d)  # square-root"
   ]
  },
  {
   "cell_type": "code",
   "execution_count": 83,
   "metadata": {},
   "outputs": [
    {
     "data": {
      "text/plain": [
       "3.0 + 3.0im"
      ]
     },
     "execution_count": 83,
     "metadata": {},
     "output_type": "execute_result"
    }
   ],
   "source": [
    "a^2"
   ]
  },
  {
   "cell_type": "code",
   "execution_count": 84,
   "metadata": {},
   "outputs": [
    {
     "ename": "DomainError",
     "evalue": "DomainError with -1.0:\nsqrt will only return a complex result if called with a complex argument. Try sqrt(Complex(x)).",
     "output_type": "error",
     "traceback": [
      "DomainError with -1.0:\nsqrt will only return a complex result if called with a complex argument. Try sqrt(Complex(x)).",
      "",
      "Stacktrace:",
      " [1] throw_complex_domainerror(::Symbol, ::Float64) at ./math.jl:33",
      " [2] sqrt at ./math.jl:557 [inlined]",
      " [3] sqrt(::Int64) at ./math.jl:583",
      " [4] top-level scope at In[84]:1"
     ]
    }
   ],
   "source": [
    "# notice sqrt(-1) gives an error\n",
    "a=sqrt(-1)"
   ]
  },
  {
   "cell_type": "code",
   "execution_count": 85,
   "metadata": {},
   "outputs": [
    {
     "data": {
      "text/plain": [
       "0.0 + 1.0im"
      ]
     },
     "execution_count": 85,
     "metadata": {},
     "output_type": "execute_result"
    }
   ],
   "source": [
    "# but sqrt(-1 + 0im) works\n",
    "a=sqrt(-1 + 0im)"
   ]
  },
  {
   "cell_type": "code",
   "execution_count": 88,
   "metadata": {},
   "outputs": [
    {
     "data": {
      "text/plain": [
       "2.23606797749979"
      ]
     },
     "execution_count": 88,
     "metadata": {},
     "output_type": "execute_result"
    }
   ],
   "source": [
    "a1=abs(1-2im)"
   ]
  },
  {
   "cell_type": "code",
   "execution_count": 87,
   "metadata": {},
   "outputs": [
    {
     "data": {
      "text/plain": [
       "5"
      ]
     },
     "execution_count": 87,
     "metadata": {},
     "output_type": "execute_result"
    }
   ],
   "source": [
    "a2=abs2(1+2im)  # abs2 = multiply complex number by its conjugate"
   ]
  },
  {
   "cell_type": "code",
   "execution_count": 89,
   "metadata": {},
   "outputs": [
    {
     "data": {
      "text/plain": [
       "0.0 + 1.0im"
      ]
     },
     "execution_count": 89,
     "metadata": {},
     "output_type": "execute_result"
    }
   ],
   "source": [
    "a3 = sqrt(-1+0im)"
   ]
  },
  {
   "cell_type": "code",
   "execution_count": 90,
   "metadata": {},
   "outputs": [
    {
     "data": {
      "text/plain": [
       "0.7861513777574233 + 1.272019649514069im"
      ]
     },
     "execution_count": 90,
     "metadata": {},
     "output_type": "execute_result"
    }
   ],
   "source": [
    "a4 = sqrt(-1+2im)"
   ]
  },
  {
   "cell_type": "code",
   "execution_count": 91,
   "metadata": {},
   "outputs": [
    {
     "data": {
      "text/plain": [
       "3.165778513216168 + 1.9596010414216063im"
      ]
     },
     "execution_count": 91,
     "metadata": {},
     "output_type": "execute_result"
    }
   ],
   "source": [
    "a5 = sin(1+2im)"
   ]
  },
  {
   "cell_type": "code",
   "execution_count": 92,
   "metadata": {},
   "outputs": [
    {
     "data": {
      "text/plain": [
       "-0.64214812471552 + 1.0686074213827783im"
      ]
     },
     "execution_count": 92,
     "metadata": {},
     "output_type": "execute_result"
    }
   ],
   "source": [
    "a6 = cosh(1+2im)  # hiperbolic cosine"
   ]
  },
  {
   "cell_type": "code",
   "execution_count": 93,
   "metadata": {},
   "outputs": [
    {
     "data": {
      "text/plain": [
       "-1.1312043837568135 + 2.4717266720048188im"
      ]
     },
     "execution_count": 93,
     "metadata": {},
     "output_type": "execute_result"
    }
   ],
   "source": [
    "a7 = exp(1+2im)"
   ]
  },
  {
   "cell_type": "code",
   "execution_count": 94,
   "metadata": {},
   "outputs": [
    {
     "data": {
      "text/plain": [
       "0.8047189562170501 + 1.1071487177940904im"
      ]
     },
     "execution_count": 94,
     "metadata": {},
     "output_type": "execute_result"
    }
   ],
   "source": [
    "a8 = log(1+2im)"
   ]
  },
  {
   "cell_type": "markdown",
   "metadata": {},
   "source": [
    "#### Miscellaneous functions for Ints and Floats"
   ]
  },
  {
   "cell_type": "code",
   "execution_count": 97,
   "metadata": {},
   "outputs": [
    {
     "name": "stdout",
     "output_type": "stream",
     "text": [
      "5.0\n",
      "4.0\n",
      "4.0\n",
      "5.0\n",
      "3.0\n"
     ]
    }
   ],
   "source": [
    "# also round(x), floor(x), ceil(x), trunc(x)\n",
    "# rem(x,y), mod(x,y), gcd(x,y) greatest common denominator,\n",
    "# lcm(x,y) least common multiple and many Variations\n",
    "\n",
    "# Also hypot(x,y) hypotenuse, crbt(x) cube root,\n",
    "# various log and exp functions\n",
    "\n",
    "println(ceil(4.3))\n",
    "println(round(4.3))\n",
    "println(floor(4.3))\n",
    "println(hypot(3,4))\n",
    "println(cbrt(27))"
   ]
  },
  {
   "cell_type": "markdown",
   "metadata": {},
   "source": [
    "#### Takeaways\n",
    "\n",
    "- Learned how operators are polymorphic across a broad spectrum of types\n",
    "- A large number of functions share this polymorphism as well if it makes sense for the funcion's arguments"
   ]
  },
  {
   "cell_type": "markdown",
   "metadata": {},
   "source": [
    "## 5. Strings (Unicode and UTF8)\n",
    "\n"
   ]
  },
  {
   "cell_type": "code",
   "execution_count": null,
   "metadata": {},
   "outputs": [],
   "source": []
  }
 ],
 "metadata": {
  "kernelspec": {
   "display_name": "Julia 1.4.1",
   "language": "julia",
   "name": "julia-1.4"
  },
  "language_info": {
   "file_extension": ".jl",
   "mimetype": "application/julia",
   "name": "julia",
   "version": "1.4.1"
  }
 },
 "nbformat": 4,
 "nbformat_minor": 4
}
