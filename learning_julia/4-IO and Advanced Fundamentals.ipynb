{
 "cells": [
  {
   "cell_type": "markdown",
   "metadata": {},
   "source": [
    "# I/O and Advanced Fundamentals\n",
    "\n",
    "- Basic stream I/O\n",
    "- Vector and Matrix operations\n",
    "- Perceptron - Part 1\n",
    "- Perceptron - Part 2"
   ]
  },
  {
   "cell_type": "markdown",
   "metadata": {},
   "source": [
    "## 1. Basic Stream I/O\n",
    "\n",
    "- Stream I/O\n",
    "- Formatted output using @printf([fid,]\"format\",args)\n",
    "- fid is the file handle (Stream I/O) which works for formatted strings using s=@sprintf(\"format\",args)\n",
    "- Some handy OS commands"
   ]
  },
  {
   "cell_type": "code",
   "execution_count": 1,
   "metadata": {},
   "outputs": [
    {
     "data": {
      "text/plain": [
       "well (generic function with 1 method)"
      ]
     },
     "execution_count": 1,
     "metadata": {},
     "output_type": "execute_result"
    }
   ],
   "source": [
    "# well depth example with file i/o\n",
    "#  constants\n",
    "using Printf\n",
    "g= 9.807    # accel due to gravity\n",
    "vs= 343.21  # velocity of sound in air in m/s 20 degrees Celsius\n",
    "# (depth, tv)=well(t)  judging well depth using a rock and stopwatch\n",
    "function well(t)\n",
    "    tdn = (-vs + sqrt(vs^2 + 2.0*g*vs*t))/g\n",
    "    tup = t - tdn\n",
    "    depth = vs*tup; termvel=g*tdn\n",
    "    return (depth, termvel)\n",
    "end"
   ]
  },
  {
   "cell_type": "code",
   "execution_count": 2,
   "metadata": {},
   "outputs": [
    {
     "name": "stdout",
     "output_type": "stream",
     "text": [
      "5.0 107.68507177482142 45.95796990502703\n"
     ]
    }
   ],
   "source": [
    "t = 5.0 # seconds from drop to ear\n",
    "(d,tv) = well(t)\n",
    "println(t,\" \",d,\" \",tv)"
   ]
  },
  {
   "cell_type": "code",
   "execution_count": 3,
   "metadata": {},
   "outputs": [
    {
     "name": "stdout",
     "output_type": "stream",
     "text": [
      "depth 107.7 meters\n",
      "terminal velocity 46.0 meters/second\n"
     ]
    }
   ],
   "source": [
    "# rounding results:\n",
    "rd =(round(d*10))/10.0\n",
    "rtv =(round(tv*10))/10.0\n",
    "\n",
    "println(\"depth $rd meters\")\n",
    "println(\"terminal velocity $rtv meters/second\")"
   ]
  },
  {
   "cell_type": "code",
   "execution_count": 5,
   "metadata": {},
   "outputs": [
    {
     "name": "stdout",
     "output_type": "stream",
     "text": [
      "depth  107.7 meters"
     ]
    }
   ],
   "source": [
    "# could also ue @printf() macro for C printf\n",
    "@printf(\"depth %6.1f meters\",d)"
   ]
  },
  {
   "cell_type": "code",
   "execution_count": 6,
   "metadata": {},
   "outputs": [
    {
     "name": "stdout",
     "output_type": "stream",
     "text": [
      "   5.0, 107.7,  46.0\n"
     ]
    }
   ],
   "source": [
    "@printf(\"%6.1f,%6.1f,%6.1f\\n\",t,d,tv)"
   ]
  },
  {
   "cell_type": "code",
   "execution_count": 8,
   "metadata": {},
   "outputs": [
    {
     "name": "stdout",
     "output_type": "stream",
     "text": [
      "done\n"
     ]
    }
   ],
   "source": [
    "win=open(\"./files/wellin.dat\",\"r\")\n",
    "wout=open(\"./files/wellout.csv\",\"w\")\n",
    "\n",
    "@printf(wout,\"   Time Depth Speed Place\\n\")\n",
    "@printf(wout,\"   sec    M    M/s  CA/USA\\n\")\n",
    "while true\n",
    "    s=readline(win)\n",
    "    if(s==\"\"); break; end\n",
    "    st=split(s)\n",
    "    t=parse(Float64, st[1])\n",
    "    (d,tv) = well(t)\n",
    "    @printf(wout,\"%6.1f,%6.1f,%6.1f, %-22s\\n\", t,d,tv,st[2])\n",
    "end\n",
    "println(\"done\")\n",
    "close(win)\n",
    "close(wout)"
   ]
  },
  {
   "cell_type": "code",
   "execution_count": 9,
   "metadata": {},
   "outputs": [
    {
     "data": {
      "text/plain": [
       "\"/Users/henrique/Desktop/julia\""
      ]
     },
     "execution_count": 9,
     "metadata": {},
     "output_type": "execute_result"
    }
   ],
   "source": [
    "# many system-like directory functions\n",
    "# examples:\n",
    "pwd()"
   ]
  },
  {
   "cell_type": "code",
   "execution_count": 10,
   "metadata": {},
   "outputs": [
    {
     "data": {
      "text/plain": [
       "9-element Array{String,1}:\n",
       " \".DS_Store\"\n",
       " \".git\"\n",
       " \".ipynb_checkpoints\"\n",
       " \"1-Getting Started.ipynb\"\n",
       " \"2-Understanding Julia Fundamentals.ipynb\"\n",
       " \"3 - Control Structures, Functions, Tasks and Modules.ipynb\"\n",
       " \"4 - IO and Advanced Fundamentals.ipynb\"\n",
       " \"README.md\"\n",
       " \"files\""
      ]
     },
     "execution_count": 10,
     "metadata": {},
     "output_type": "execute_result"
    }
   ],
   "source": [
    "readdir() # list of files/directories in working directory"
   ]
  },
  {
   "cell_type": "code",
   "execution_count": 11,
   "metadata": {},
   "outputs": [
    {
     "data": {
      "text/plain": [
       "StatStruct(mode=0o100644, size=115)"
      ]
     },
     "execution_count": 11,
     "metadata": {},
     "output_type": "execute_result"
    }
   ],
   "source": [
    "stat(\"./files/wellin.dat\") #yields string, list of file parameters\n",
    "# mode=6 Owner R&W, \n",
    "#     =4 Group R only,\n",
    "#     =4 Others R only\n",
    "# uperm(file) user permission, gperm(file) group permission\n",
    "# operm(file) other permission"
   ]
  },
  {
   "cell_type": "code",
   "execution_count": 12,
   "metadata": {},
   "outputs": [
    {
     "data": {
      "text/plain": [
       "StatStruct(mode=0o100664, size=368)"
      ]
     },
     "execution_count": 12,
     "metadata": {},
     "output_type": "execute_result"
    }
   ],
   "source": [
    "chmod(\"./files/wellout.csv\", 0o664)\n",
    "stat(\"./files/wellout.csv\")"
   ]
  },
  {
   "cell_type": "markdown",
   "metadata": {},
   "source": [
    "#### Takeaways\n",
    "\n",
    "- Opening and Closing streams\n",
    "- Formatted output\n",
    "- Format control characters\n",
    "- a few OS commands"
   ]
  },
  {
   "cell_type": "markdown",
   "metadata": {},
   "source": [
    "## 2. Vector and Matrix Operations\n",
    "\n",
    "- Vector and Matrix Operations:\n",
    "    - Normal Math ops and functions do what you would expect\n",
    "- Dot notation:\n",
    "    - .+ , .- , .* , .^ , .% , ./ , .\\ perform operations on corresponding elements\n",
    "- Two common matrix decompositions:\n",
    "    - Sparse matrices\n",
    "    \n",
    "Most of the math functions work equally well on Vectors and Matrices.  \n",
    "The same goes for operations, but some need a preceding dot (.) to be corresponding element by element operations.  \n",
    "Those include: .+ , .- , .* , .^ , .% , ./ and .\\ or any operation with otherwise different normal vector/matrix behavior."
   ]
  },
  {
   "cell_type": "code",
   "execution_count": 14,
   "metadata": {},
   "outputs": [
    {
     "name": "stdout",
     "output_type": "stream",
     "text": [
      "[-6.617090724982948, 2.7882910325743167, 9.728799692408636]\n",
      "[-0.3932792609247248 0.26696075560426874 0.36792566733230614; 0.7610668200252224 0.8695248970921453 -0.3733716151421295; -0.5158572655136283 0.41552185057357915 -0.8516010452813187]\n"
     ]
    }
   ],
   "source": [
    "using LinearAlgebra\n",
    "\n",
    "A = [2.5 2 -4; 3 -1 6; -10 2.3 4.4]\n",
    "\n",
    "println(eigvals(A))\n",
    "println(eigvecs(A))"
   ]
  },
  {
   "cell_type": "code",
   "execution_count": 15,
   "metadata": {},
   "outputs": [
    {
     "data": {
      "text/plain": [
       "3×3 Array{Float64,2}:\n",
       " 0.101393   0.100279  -0.0445682\n",
       " 0.407799   0.16156    0.150418\n",
       " 0.0172702  0.143454   0.0473538"
      ]
     },
     "execution_count": 15,
     "metadata": {},
     "output_type": "execute_result"
    }
   ],
   "source": [
    "# three ways to get an inverse\n",
    "Ainv = inv(A)\n",
    "A^-1\n",
    "A\\I  # I is the identity/uniform-scaling operator"
   ]
  },
  {
   "cell_type": "code",
   "execution_count": 16,
   "metadata": {},
   "outputs": [
    {
     "data": {
      "text/plain": [
       "3×3 Array{Float64,2}:\n",
       "  1.0          0.0          -2.77556e-17\n",
       " -2.77556e-17  1.0           0.0\n",
       "  8.32667e-17  1.11022e-16   1.0"
      ]
     },
     "execution_count": 16,
     "metadata": {},
     "output_type": "execute_result"
    }
   ],
   "source": [
    "A*Ainv"
   ]
  },
  {
   "cell_type": "code",
   "execution_count": 17,
   "metadata": {},
   "outputs": [
    {
     "data": {
      "text/plain": [
       "3×3 Array{Float64,2}:\n",
       "  63.4325   0.189056  -16.5817\n",
       " -36.4145  20.1679    410.829\n",
       " -63.1     -3.20582   153.611"
      ]
     },
     "execution_count": 17,
     "metadata": {},
     "output_type": "execute_result"
    }
   ],
   "source": [
    "Am1 = A^2 .+ exp.(A) .- 1"
   ]
  },
  {
   "cell_type": "code",
   "execution_count": 18,
   "metadata": {},
   "outputs": [
    {
     "data": {
      "text/plain": [
       "3×3 Symmetric{Float64,Array{Float64,2}}:\n",
       "  2.5   2.0  -4.0\n",
       "  2.0  -1.0  -3.0\n",
       " -4.0  -3.0   4.4"
      ]
     },
     "execution_count": 18,
     "metadata": {},
     "output_type": "execute_result"
    }
   ],
   "source": [
    "B = [2.5 2 -4; 2 -1 -3; -4 -3 4.4]\n",
    "sB = Symmetric(B) # less computation"
   ]
  },
  {
   "cell_type": "code",
   "execution_count": 21,
   "metadata": {},
   "outputs": [
    {
     "name": "stdout",
     "output_type": "stream",
     "text": [
      "[-2.868217054263566, -0.6434108527131782, -2.364341085271318]\n"
     ]
    }
   ],
   "source": [
    "# solve for x in sB+x=v linear system of equations\n",
    "v = [1., 2, 3]\n",
    "\n",
    "x = sB\\v\n",
    "\n",
    "println(x) #linear solution"
   ]
  },
  {
   "cell_type": "code",
   "execution_count": 22,
   "metadata": {},
   "outputs": [
    {
     "name": "stdout",
     "output_type": "stream",
     "text": [
      "[-0.574342923296777 -0.08332196272978316 -0.8143633445740107; -0.34236464703591796 0.9280752576617368 0.14650175622180192; 0.7435836569740379 0.36295146596061256 -0.5615599508851739]\n",
      "[-0.5743429232967773 0.08332196272978323 0.8143633445740107; -0.34236464703591807 -0.9280752576617368 -0.14650175622180206; 0.7435836569740379 -0.3629514659606127 0.5615599508851736]\n",
      "[8.87086969047107, 2.3527979686740075, 0.6180717217970606]\n"
     ]
    }
   ],
   "source": [
    "# more than 12 different factorizations are available\n",
    "# Let's use Single Valued Decomposition SVD\n",
    "(U,S,V) = svd(B)  # such that U*diagm(S)*V'\n",
    "println(U)  # Matrix\n",
    "println(V)  # Matrix\n",
    "println(S)  # Vector diagonal of Matrix"
   ]
  },
  {
   "cell_type": "code",
   "execution_count": 24,
   "metadata": {},
   "outputs": [
    {
     "name": "stdout",
     "output_type": "stream",
     "text": [
      "[2.500000000000001 2.0 -3.9999999999999996; 2.0000000000000004 -0.9999999999999999 -3.000000000000001; -4.000000000000002 -3.0000000000000013 4.4]\n"
     ]
    }
   ],
   "source": [
    "println(U*Diagonal(S)*V')  # V' transpose of matrix V"
   ]
  },
  {
   "cell_type": "code",
   "execution_count": 25,
   "metadata": {},
   "outputs": [
    {
     "name": "stdout",
     "output_type": "stream",
     "text": [
      "[1.0 0.0 0.0; -0.5 1.0 0.0; -0.625 -0.05 1.0]\n",
      "[-4.0 -3.0 4.4; 0.0 -2.5 -0.7999999999999998; 0.0 0.0 -1.29]\n",
      "[3, 2, 1]\n",
      "[2.5 2.0 -4.0; 2.0 -1.0 -3.0; -4.0 -3.0 4.4]\n"
     ]
    }
   ],
   "source": [
    "# LU decomposition L= lower triangular part,\n",
    "# U= upper triangular part, p= permutation vector\n",
    "(L,U,p)=lu(B)\n",
    "println(L) # lower triangle\n",
    "println(U) # upper triangle\n",
    "println(p) # permutation vector for rows\n",
    "println((L*U)[p,:]) # rearrange rows by p"
   ]
  },
  {
   "cell_type": "code",
   "execution_count": 26,
   "metadata": {},
   "outputs": [
    {
     "name": "stdout",
     "output_type": "stream",
     "text": [
      "[1.708827506211986 0.08102477381861384 0.931250274356308; 0.5907052265122514 1.2165433112917443 0.20003987645520271; 0.7599736265487387 0.9004496463598017 1.5501802678202217]\n",
      "\n",
      "[0.6857821936154275 0.2866342389036346 -0.44896270978199904; -0.3070314133703831 0.7804755863970717 0.08373016400248426; -0.15785909432188297 -0.5938750782132266 0.8165534347514273]\n"
     ]
    }
   ],
   "source": [
    "# make a random matrix\n",
    "R = rand(3,3) .+ Diagonal([1.0, 1, 1])\n",
    "Ri = inv(R)\n",
    "println(R)\n",
    "println()\n",
    "println(Ri)"
   ]
  },
  {
   "cell_type": "code",
   "execution_count": 28,
   "metadata": {},
   "outputs": [
    {
     "data": {
      "text/plain": [
       "3×3 SparseMatrixCSC{Int64,Int64} with 3 stored entries:\n",
       "  [1, 1]  =  3\n",
       "  [3, 1]  =  2\n",
       "  [2, 3]  =  3"
      ]
     },
     "execution_count": 28,
     "metadata": {},
     "output_type": "execute_result"
    }
   ],
   "source": [
    "# Sparse matrices\n",
    "using SparseArrays\n",
    "\n",
    "#            row index     col index     values   \n",
    "S=sparse([1, 2, 3, 3], [1, 3, 1, 2], [3, 3, 2, 0])\n",
    "S=dropzeros(S)"
   ]
  },
  {
   "cell_type": "code",
   "execution_count": 29,
   "metadata": {},
   "outputs": [
    {
     "data": {
      "text/plain": [
       "3×3 SparseMatrixCSC{Int64,Int64} with 3 stored entries:\n",
       "  [1, 1]  =  3\n",
       "  [3, 1]  =  2\n",
       "  [2, 3]  =  3"
      ]
     },
     "execution_count": 29,
     "metadata": {},
     "output_type": "execute_result"
    }
   ],
   "source": [
    "R=S*I"
   ]
  },
  {
   "cell_type": "code",
   "execution_count": 30,
   "metadata": {},
   "outputs": [
    {
     "data": {
      "text/plain": [
       "3×3 Array{Float64,2}:\n",
       " 1.67069    2.59028  0.2596\n",
       " 0.0507147  1.98468  1.62814\n",
       " 1.1138     1.72686  0.173067"
      ]
     },
     "execution_count": 30,
     "metadata": {},
     "output_type": "execute_result"
    }
   ],
   "source": [
    "R*rand(3,3)"
   ]
  },
  {
   "cell_type": "markdown",
   "metadata": {},
   "source": [
    "#### Takeaways\n",
    "\n",
    "- Learned more about Vector and Matrix operations\n",
    "- Learned when to use . notation\n",
    "- Learned matrix decomposition - 2 examples\n",
    "- Learned Sparse Matrices"
   ]
  },
  {
   "cell_type": "markdown",
   "metadata": {},
   "source": [
    "## 3. Perceptron - Part 1\n",
    "\n",
    "- Perceptron and its limitations\n",
    "- How to prepare data for a learning network\n",
    "\n",
    "### Perceptron\n",
    "\n",
    "- The perceptron is a one layer neural network\n",
    "- The one we are using can be described with the function:\n",
    "    - y = f(sum(x[i] * w[i])+bias)\n",
    "    - y = 1 if x * w + bias > 0\n",
    "    - y = 0, otherwise\n",
    "    \n",
    "### Limitations of Single Layer Perceptrons\n",
    "\n",
    "- A 1-layer perceptron cannot implement the XOR function\n",
    "- Relevant data must be separable by a hyperplane\n",
    "- Limitations of the Perceptron nearly killed neural networks as a field of study\n",
    "- Do you have enough data and does it represent the whole?\n",
    "\n",
    "### Data Transformation, Representation, and Randomization\n",
    "\n",
    "- The problem at hand is to identify a mine from sonar data\n",
    "- Each sonar record contains the correct M (mine) or R (rock) identifier at the end, however, we need to separate these\n",
    "- The data is clumped, all mines together, all rocks together\n",
    "- We need to randomizee these, select a training group and a testing group\n",
    "- Each training epoch (run) needs to randomize the data"
   ]
  },
  {
   "cell_type": "code",
   "execution_count": 34,
   "metadata": {},
   "outputs": [],
   "source": [
    "# using UCI Machine Learning laboratory data\n",
    "# you need to know your training/test data\n",
    "# it generally doesn't come in a ready-to-use form\n",
    "# This sonar data is 60 magnitudes in a time sequence\n",
    "#    followed by a letter M=mine and R=rock\n",
    "# read in training data\n",
    "# Create Sonar Data Set\n",
    "using Random\n",
    "\n",
    "numsonar=208  # total number of sonar sweeps\n",
    "trainln=138   # training length after initial randomization\n",
    "burstln=60    # sonar burst length\n",
    "testln=numsonar-trainln  # 70 is test length\n",
    "\n",
    "# Some arrays\n",
    "traindata=Array{Float64}(undef,trainln,burstln)\n",
    "trainlabel=Array{Int32}(undef,trainln)\n",
    "testdata=Array{Float64}(undef,testln,burstln)\n",
    "testlabel=Array{Int32}(undef,testln)\n",
    "#\n",
    "\n",
    "function create_sonar_data_arrays()\n",
    "    global traindata, trainlabel, testdata, testlabel\n",
    "    sdata=Array{Float64}(undef,numsonar,burstln)\n",
    "    stype=Array{Int32}(undef,numsonar)\n",
    "    sonardata=zeros(Float64, burstln)\n",
    "    f1=open(\"./files/sonar-data.csv\",\"r\")\n",
    "    for i=1:numsonar\n",
    "        sonarlist=split(readline(f1),\",\")\n",
    "        stype[i]=Char(sonarlist[burstln+1][1])\n",
    "        sdata[i,:]=parse.(Float64, sonarlist[1:burstln])\n",
    "    end\n",
    "    # randomize and partition training from test data\n",
    "    seq=randperm(numsonar) # random index sequence\n",
    "    for i=1:numsonar\n",
    "        sonardata[:]=sdata[seq[i],:]\n",
    "        sonartype=(stype[seq[i]]==Int32('M')) ? 1 : 0\n",
    "        if i <=trainln\n",
    "            traindata[i,:]=sonardata\n",
    "            trainlabel[i]=sonartype\n",
    "        else\n",
    "            testdata[i-trainln,:]=sonardata\n",
    "            testlabel[i-trainln]=sonartype\n",
    "        end\n",
    "    end\n",
    "    close(f1)\n",
    "end\n",
    "\n",
    "create_sonar_data_arrays()"
   ]
  },
  {
   "cell_type": "code",
   "execution_count": 35,
   "metadata": {},
   "outputs": [
    {
     "name": "stdout",
     "output_type": "stream",
     "text": [
      "Int32[1, 0, 0, 1, 1, 0, 0, 0, 0, 1, 0, 1, 0, 1, 1, 0, 1, 0, 0, 0, 0, 0, 0, 1, 1, 0, 1, 0, 1, 0, 1, 1, 0, 1, 0, 0, 1, 0, 0, 0, 0, 0, 1, 1, 0, 1, 0, 0, 0, 1, 1, 0, 1, 1, 1, 1, 1, 0, 0, 0, 0, 1, 1, 1, 0, 0, 1, 1, 0, 0, 1, 0, 1, 1, 1, 0, 0, 1, 1, 0, 1, 0, 0, 0, 0, 0, 1, 1, 0, 1, 1, 1, 0, 1, 0, 1, 1, 0, 1, 1, 1, 0, 0, 0, 0, 1, 0, 1, 0, 0, 1, 0, 1, 1, 1, 1, 1, 1, 1, 1, 0, 1, 1, 0, 1, 0, 0, 0, 1, 0, 1, 1, 0, 0, 0, 1, 1, 1]\n"
     ]
    }
   ],
   "source": [
    "println(trainlabel)"
   ]
  },
  {
   "cell_type": "markdown",
   "metadata": {},
   "source": [
    "#### Takeaways\n",
    "\n",
    "- A bit about AI and the perceptron (an early stage of Neural Network)\n",
    "- How to organize training and test data (in general) for neural networks\n",
    "- Check that your data transformations worked, however the best test is to transform it back to the original and compare it"
   ]
  },
  {
   "cell_type": "markdown",
   "metadata": {},
   "source": [
    "## Perceptron - Part 2\n",
    "\n",
    "- How to train a perceptron\n",
    "- The training formula\n",
    "- Constructing training epochs\n",
    "- Training and testing in Julia code\n",
    "\n",
    "### Training formula\n",
    "\n",
    "- It amounts to feeding back the error in proportion to inputs on a wrong result\n",
    "- A pass through the training samples is called an epoch\n",
    "- Weights and bias are initialized to 0.0\n",
    "- Order of training samples (set of inputs with labels) randomized (for each epoch)\n",
    "- For each sample fed through network p=(inputs' * w + bias > 0) ? 1 : 0  # p is prediction\n",
    "- if p doesn't match the label then  \n",
    "    - error=label-p and serror+=error^2 (Minimize squared error sum: serror)  \n",
    "    - w.+= learning_rate * error .* inputs  \n",
    "    - bias += learning_rate * error  \n",
    "  else do nothing"
   ]
  },
  {
   "cell_type": "code",
   "execution_count": 44,
   "metadata": {},
   "outputs": [
    {
     "name": "stdout",
     "output_type": "stream",
     "text": [
      "epoch=   1, perscore= 58.0, serror=58.0000001\n",
      "epoch=   2, perscore= 67.4, serror=44.0000001\n",
      "epoch=   4, perscore= 68.8, serror=40.0000001\n",
      "epoch=   6, perscore= 76.8, serror=27.0000001\n",
      "epoch=   9, perscore= 76.1, serror=25.0000001\n",
      "epoch=  13, perscore= 73.9, serror=24.0000001\n",
      "epoch=  21, perscore= 68.8, serror=23.0000001\n",
      "epoch=  22, perscore= 68.8, serror=22.0000001\n",
      "epoch=  24, perscore= 68.8, serror=20.0000001\n",
      "epoch=  32, perscore= 65.9, serror=16.0000001\n",
      "epoch=  47, perscore= 57.2, serror=13.0000001\n",
      "epoch=  61, perscore= 47.8, serror=12.0000001\n",
      "epoch=  66, perscore= 47.1, serror=8.0000001\n",
      "epoch=  69, perscore= 46.4, serror=6.0000001\n",
      "epoch=  86, perscore= 34.8, serror=5.0000001\n",
      "epoch= 100, perscore= 25.4, serror=4.0000001\n",
      "epoch= 102, perscore= 24.6, serror=3.0000001\n",
      "epoch= 108, perscore= 21.0, serror=2.0000001\n",
      "epoch= 122, perscore= 12.3, serror=0.0000001\n"
     ]
    },
    {
     "data": {
      "text/plain": [
       "([0.001973159999999993, 0.001172024999999997, 0.0024649200000000033, 0.005333624999999998, 0.0032376600000000094, 7.577999999999785e-5, -0.004627935000000019, -0.006079860000000019, 0.005152454999999998, 0.0022351499999999974  …  0.0014480100000000043, 0.0017460899999999922, 0.0009405900000000054, 0.0006279750000000009, -0.00027998999999999976, 0.0007069050000000005, -0.000394695, 0.0010205099999999983, 0.0013204349999999937, 0.0010950300000000014], -0.009000000000000001)"
      ]
     },
     "execution_count": 44,
     "metadata": {},
     "output_type": "execute_result"
    }
   ],
   "source": [
    "# Training module\n",
    "inputsets = traindata\n",
    "labels = trainlabel\n",
    "\n",
    "# Parameters\n",
    "epochs=2000\n",
    "global learning_rate=0.00045\n",
    "global bias = 0.0\n",
    "global weights=zeros(Float64, burstln)\n",
    "\n",
    "# Prediction function\n",
    "predict(sinput, weights, bias) = sinput' * weights + bias > 0.0 ? 1 : 0\n",
    "\n",
    "# training\n",
    "function train(inputsets, weights, bias)\n",
    "    sinput=zeros(Float64, burstln) # will be sonar input sample\n",
    "    save_weights=zeros(Float64, burstln)\n",
    "    save_bias=0.0\n",
    "    last_serror=70\n",
    "    for i=1:epochs                 # loop through epochs\n",
    "        score=0\n",
    "        error=0.0\n",
    "        serror=0.0\n",
    "        seq=randperm(trainln)\n",
    "        lr=learning_rate\n",
    "        for j=i:trainln\n",
    "            sinput[:] = inputsets[seq[j],:]\n",
    "            p = predict(sinput, weights, bias)\n",
    "            if p != labels[seq[j]]\n",
    "                error=labels[seq[j]]-p\n",
    "                serror+=error^2\n",
    "                weights .+= lr * error .* sinput\n",
    "                bias += lr * error\n",
    "            else\n",
    "                score+=1\n",
    "            end\n",
    "        end\n",
    "        if serror<last_serror\n",
    "            @printf(\"epoch=%4d, perscore=%5.1f, serror=%5f1\\n\",i,score*100.0/trainln,serror)\n",
    "            last_serror=serror\n",
    "            save_weights=weights\n",
    "            save_bias=bias\n",
    "        end\n",
    "    end\n",
    "    return (save_weights, save_bias)\n",
    "end\n",
    "\n",
    "(weights, bias) = train(inputsets, weights, bias)"
   ]
  },
  {
   "cell_type": "code",
   "execution_count": 45,
   "metadata": {},
   "outputs": [
    {
     "name": "stdout",
     "output_type": "stream",
     "text": [
      "perscore=84.29, serror= 11\n"
     ]
    }
   ],
   "source": [
    "function test(inputsets, weights, bias)\n",
    "    sinput=zeros(Float64, burstln)\n",
    "    error=0\n",
    "    serror=0\n",
    "    score=0\n",
    "    for j=1:testln\n",
    "        sinput[:] = inputsets[j,:]\n",
    "        p = predict(sinput, weights, bias)\n",
    "        if p != labels[j]\n",
    "            error=labels[j]-p\n",
    "            serror+=error^2\n",
    "        else\n",
    "            score+=1\n",
    "        end\n",
    "    end\n",
    "    @printf(\"perscore=%5.2f, serror=%3d\\n\",score*100.0/testln,serror)\n",
    "end\n",
    "\n",
    "test(inputsets, weights, bias)"
   ]
  },
  {
   "cell_type": "markdown",
   "metadata": {},
   "source": [
    "#### Takeaways\n",
    "\n",
    "- How to build a simple neural net and train it and some thoughts along the way\n",
    "- Julia is a very expressive language, and some of the examples have been condensed by using language elements and features not introduced earlier, the implicit: for loop for example\n",
    "- Keep on reading and experimenting with the language"
   ]
  }
 ],
 "metadata": {
  "kernelspec": {
   "display_name": "Julia 1.4.1",
   "language": "julia",
   "name": "julia-1.4"
  },
  "language_info": {
   "file_extension": ".jl",
   "mimetype": "application/julia",
   "name": "julia",
   "version": "1.4.1"
  }
 },
 "nbformat": 4,
 "nbformat_minor": 4
}
